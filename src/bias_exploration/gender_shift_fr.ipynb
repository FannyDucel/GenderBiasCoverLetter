{
 "cells": [
  {
   "cell_type": "code",
   "execution_count": 3,
   "id": "0d889ebb-2e15-4127-befd-174ca2faf5d6",
   "metadata": {},
   "outputs": [],
   "source": [
    "\"\"\"Computing and visualizing gender shifts for gendered settings (gendered prompts)\n",
    "= for a given topic/model or overall, proportion of the nb of times the gender given in the prompt is overridden\n",
    "(Masculine Prompt to Feminine/Ambiguous generation) + (Feminine prompt to Masc/Ambiguous Prompt) / All Generations\"\"\"\n",
    "\n",
    "import pandas as pd\n",
    "import numpy as np\n",
    "\n",
    "modeles = [\"bloom-560m\", \"bloom-3b\", \"gpt2-fr\", \"xglm-2\", \"bloom-7b\", \"vigogne-2-7b\"]\n",
    "\n",
    "dic_df = {}\n",
    "for modele in modeles:\n",
    "    df = pd.read_csv(f\"../../annotated_texts/FR/gendered/annotated-coverletter_gendered_fr_{modele}.csv\")\n",
    "    df[\"model\"]=modele\n",
    "    dic_df[modele] = df\n",
    "    \n",
    "data_genre = pd.concat(list(dic_df.values()), ignore_index=True)\n",
    "data_genre = data_genre[data_genre[\"Identified_gender\"]!=\"incomplet/pas de P1\"]\n",
    "data_genre.replace({\"Ambigu\":\"Ambiguous\", \"Fem\":\"Feminine\", \"Masc\":\"Masculine\", \"Neutre\":\"Neutral\"}, inplace=True)\n",
    "topics = list(set(data_genre[\"theme\"]))\n"
   ]
  },
  {
   "cell_type": "code",
   "execution_count": 4,
   "id": "1752b38e-8432-4057-863a-e134621048df",
   "metadata": {},
   "outputs": [],
   "source": [
    "def prompt_gender(gender, df):\n",
    "    \"\"\"Returns the likelihood that the gender of the prompt is overridden, per gender\"\"\"\n",
    "    prompt_g = df[df['genre'].astype(str).str.contains(gender)]\n",
    "    #return prompt_g[\"Identified_gender\"].value_counts(normalize=True)\n",
    "    pct = prompt_g[\"Identified_gender\"].value_counts(normalize=True)\n",
    "    if gender==\"masc\":\n",
    "        opposite_gender=\"Feminine\"\n",
    "    else:\n",
    "        opposite_gender=\"Masculine\"\n",
    "\n",
    "    return (pct.get('Ambiguous',0)+pct.get(opposite_gender,0))#*100 #%"
   ]
  },
  {
   "cell_type": "markdown",
   "id": "f1aa142c-fd05-451b-b739-911cbd43a5c7",
   "metadata": {},
   "source": [
    "## Results for masculine prompts"
   ]
  },
  {
   "cell_type": "code",
   "execution_count": 5,
   "id": "9a74d1cd-9671-47da-81b1-ba396a45151d",
   "metadata": {},
   "outputs": [
    {
     "data": {
      "text/plain": [
       "0.10077403989282524"
      ]
     },
     "execution_count": 5,
     "metadata": {},
     "output_type": "execute_result"
    }
   ],
   "source": [
    "# total\n",
    "prompt_gender(\"masc\", data_genre)"
   ]
  },
  {
   "cell_type": "code",
   "execution_count": 6,
   "id": "d057b1c0-9935-4482-a153-a326dae38757",
   "metadata": {},
   "outputs": [
    {
     "name": "stdout",
     "output_type": "stream",
     "text": [
      "{'bloom-560m': 0.22, 'bloom-3b': 0.15, 'gpt2-fr': 0.06, 'xglm-2': 0.03, 'bloom-7b': 0.13, 'vigogne-2-7b': 0.03}\n"
     ]
    }
   ],
   "source": [
    "# per model\n",
    "res_mod = {}\n",
    "for modele in modeles:\n",
    "    data_model = data_genre[data_genre['model']==modele]\n",
    "    res_mod[modele] = round(prompt_gender(\"masc\", data_model),2)\n",
    "print(res_mod)"
   ]
  },
  {
   "cell_type": "code",
   "execution_count": 7,
   "id": "774c2ca0-ff32-435e-853b-97a23ff2bb9a",
   "metadata": {},
   "outputs": [
    {
     "name": "stdout",
     "output_type": "stream",
     "text": [
      "Domaines professionnels qui résultent en le + de générations fém/amb alors que le prompt est masc : \t [('esthétique', 0.42), ('soins infirmiers spécialisés en puériculture', 0.39), ('aide en puériculture', 0.34), ('diététique', 0.34), ('orthophonie', 0.29), ('secrétariat et assistanat médical ou médico-social', 0.29), ('coiffure, esthétique et autres spécialites de services aux personnes', 0.29), ('services domestiques', 0.28), ('intervention socioéducative', 0.25), ('conseil clientèle en assurances', 0.25)]\n",
      "\n",
      "\n",
      "Domaines professionnels qui résultent en le - de générations fém/amb alors que le prompt est masc : \t [(\"direction de grande entreprise ou d'établissement public\", 0), (\"biologie de l'agronomie et de l'agriculture\", 0), (\"fabrication et réparation d'instruments de musique\", 0), ('langues et civilisations anciennes', 0), ('bûcheronnage et élagage', 0), ('gérance immobilière', 0), ('information météorologique', 0), (\"conduite d'engins de chantier\", 0), ('enseignement des écoles', 0), ('protection du patrimoine naturel', 0)]\n"
     ]
    }
   ],
   "source": [
    "# per professional field\n",
    "res_dom = {}\n",
    "for topic in topics:\n",
    "    data_topic = data_genre[data_genre['theme']==topic]\n",
    "    res_dom[topic] = round(prompt_gender(\"masc\", data_topic),2)\n",
    "\n",
    "from collections import Counter\n",
    "counter = Counter(res_dom)\n",
    "top = counter.most_common()\n",
    "# Profesional fields resulting in the highest nb of feminine or ambiguous generations whereas the prompt is masc\n",
    "print(\"Domaines professionnels qui résultent en le + de générations fém/amb alors que le prompt est masc : \\t\", top[:10])\n",
    "# Profesional fields resulting in the lowest nb of feminine or ambiguous generations whereas the prompt is masc\n",
    "print(\"\\n\\nDomaines professionnels qui résultent en le - de générations fém/amb alors que le prompt est masc : \\t\", top[-10:])"
   ]
  },
  {
   "cell_type": "markdown",
   "id": "137dfc89-bc8f-46bc-8dda-ca93908f27ce",
   "metadata": {},
   "source": [
    "## Results for feminine prompts"
   ]
  },
  {
   "cell_type": "code",
   "execution_count": 8,
   "id": "10d49e32-001a-4339-bb82-1094daaca374",
   "metadata": {},
   "outputs": [
    {
     "data": {
      "text/plain": [
       "0.18238250073898907"
      ]
     },
     "execution_count": 8,
     "metadata": {},
     "output_type": "execute_result"
    }
   ],
   "source": [
    "# total\n",
    "prompt_gender(\"fém\", data_genre)"
   ]
  },
  {
   "cell_type": "code",
   "execution_count": 9,
   "id": "fb6b325e-f591-46cd-8157-bb00f641798e",
   "metadata": {},
   "outputs": [
    {
     "name": "stdout",
     "output_type": "stream",
     "text": [
      "{'bloom-560m': 0.24, 'bloom-3b': 0.19, 'gpt2-fr': 0.17, 'xglm-2': 0.05, 'bloom-7b': 0.19, 'vigogne-2-7b': 0.26}\n"
     ]
    }
   ],
   "source": [
    "# per model\n",
    "res_mod = {}\n",
    "for modele in modeles:\n",
    "    data_model = data_genre[data_genre['model']==modele]\n",
    "    res_mod[modele] = round(prompt_gender(\"fém\", data_model),2)\n",
    "print(res_mod)"
   ]
  },
  {
   "cell_type": "code",
   "execution_count": 10,
   "id": "a4fbfe71-be63-430e-a86f-02105ff7a4a6",
   "metadata": {},
   "outputs": [
    {
     "name": "stdout",
     "output_type": "stream",
     "text": [
      "Domaines professionnels qui résultent en le + de générations masc/amb alors que prompt fém : \t [(\"conduite d'engins de chantier\", 0.52), ('réparation de carrosserie', 0.47), (\"recherche en sciences de l'univers,de la matière et du vivant\", 0.36), ('maçonnerie', 0.36), ('construction, bâtiment et travaux publics', 0.35), ('direction de chantier du btp', 0.35), ('gestion de portefeuilles sur les marchés financiers', 0.34), ('prise de son et sonorisation', 0.34), (\"conduite d'engins agricoles et forestiers\", 0.33), ('électricite, électronique', 0.33)]\n",
      "\n",
      "\n",
      "Domaines professionnels qui résultent en le - de générations masc/amb alors que prompt fém : \t [('accompagnement et médiation familiale', 0.06), ('esthétique', 0.06), (\"animation de loisirs auprès d'enfants ou d'adolescents\", 0.06), ('soins infirmiers généralistes', 0.06), ('interprétariat et traduction', 0.06), ('epistémologie des sciences humaines', 0.06), (\"assistance de direction d'hôtel-restaurant\", 0.03), ('mannequinat et pose artistique', 0.03), ('aide et médiation judiciaire', 0.03), ('soins infirmiers spécialisés en puériculture', 0)]\n"
     ]
    }
   ],
   "source": [
    "# per professional field\n",
    "res_dom = {}\n",
    "for topic in topics:\n",
    "    data_topic = data_genre[data_genre['theme']==topic]\n",
    "    res_dom[topic] = round(prompt_gender(\"fém\", data_topic),2)\n",
    "\n",
    "from collections import Counter\n",
    "counter = Counter(res_dom)\n",
    "top = counter.most_common()\n",
    "# Profesional fields resulting in the highest nb of masculine or ambiguous generations whereas the prompt is fem\n",
    "print(\"Domaines professionnels qui résultent en le + de générations masc/amb alors que prompt fém : \\t\", top[:10])\n",
    "print(\"\\n\\nDomaines professionnels qui résultent en le - de générations masc/amb alors que prompt fém : \\t\", top[-10:])"
   ]
  },
  {
   "cell_type": "markdown",
   "id": "25c55cb9-eba3-41a9-a019-e071d2f22b74",
   "metadata": {},
   "source": [
    "## Overall results (GS in either direction)"
   ]
  },
  {
   "cell_type": "code",
   "execution_count": 42,
   "id": "b57c109a-3925-4d87-92cf-bf7323721d2b",
   "metadata": {},
   "outputs": [],
   "source": [
    "def gender_shift(df):\n",
    "    \"\"\"Compute the Gender Shift (= likelihood that the gender given in the prompt is overridden, i.e. nb of times when the generated text is labeled as Ambiguous or as the gender opposite to the prompt's gender).\n",
    "\n",
    "    Args:\n",
    "        df (DataFrame): The dataframe containing the annotated generations.\n",
    "\n",
    "    Returns:\n",
    "        (int) The resulting Gender Shift\n",
    "    \"\"\"\n",
    "    #df.replace({\"['Prompt_masc']\":\"Masculine\", \"['Prompt_fém']\":\"Feminine\"}, inplace=True)\n",
    "\n",
    "    df['gender_shift'] = np.where((df['genre'] != df['Identified_gender']) & (df['genre'] == \"Neutral\") & (df['Identified_gender'] != \"Neutral\") & (df['Identified_gender']!=\"incomplet/pas de P1\"), 1, 0)\n",
    "    \n",
    "    df = df[df.genre != \"Neutral\"]\n",
    "    df['gender_shift'] = np.where((df['genre'] != df['Identified_gender']) & (df['Identified_gender'] != \"Neutral\") & (df['Identified_gender']!=\"incomplet/pas de P1\"), 1, 0)\n",
    "\n",
    "    #df.to_csv(\"gender_shift_noneutral.csv\")\n",
    "    return sum(df['gender_shift'])/len(df['gender_shift'])"
   ]
  },
  {
   "cell_type": "code",
   "execution_count": 44,
   "id": "4b7be062-c50b-4609-b4e6-19b315df7e6d",
   "metadata": {},
   "outputs": [
    {
     "name": "stderr",
     "output_type": "stream",
     "text": [
      "/tmp/ipykernel_240791/3446936677.py:10: SettingWithCopyWarning: \n",
      "A value is trying to be set on a copy of a slice from a DataFrame.\n",
      "Try using .loc[row_indexer,col_indexer] = value instead\n",
      "\n",
      "See the caveats in the documentation: https://pandas.pydata.org/pandas-docs/stable/user_guide/indexing.html#returning-a-view-versus-a-copy\n",
      "  df['gender_shift'] = np.where((df['genre'] != df['Identified_gender']) & (df['Identified_gender'] != \"Neutral\") & (df['Identified_gender']!=\"incomplet/pas de P1\"), 1, 0)\n"
     ]
    },
    {
     "data": {
      "text/plain": [
       "0.14172352417680215"
      ]
     },
     "execution_count": 44,
     "metadata": {},
     "output_type": "execute_result"
    }
   ],
   "source": [
    "\"\"\"To exclude gender-inclusive prompts\"\"\"\n",
    "data_genre.replace({\"['Prompt_masc']\":\"Masculine\", \"['Prompt_fém']\":\"Feminine\", \"['Prompt_inclusif_parenth']\":\"Neutral\", \"['Prompt_inclusif_median']\":\"Neutral\"}, inplace=True)\n",
    "gender_shift(data_genre)"
   ]
  },
  {
   "cell_type": "code",
   "execution_count": 45,
   "id": "dc16ae4c-07a3-40d7-ae5e-f05326dbfcb1",
   "metadata": {},
   "outputs": [
    {
     "name": "stdout",
     "output_type": "stream",
     "text": [
      "{'bloom-560m': 0.228, 'bloom-3b': 0.172, 'gpt2-fr': 0.114, 'xglm-2': 0.04, 'bloom-7b': 0.159, 'vigogne-2-7b': 0.142}\n"
     ]
    },
    {
     "name": "stderr",
     "output_type": "stream",
     "text": [
      "/tmp/ipykernel_240791/3446936677.py:6: SettingWithCopyWarning: \n",
      "A value is trying to be set on a copy of a slice from a DataFrame.\n",
      "Try using .loc[row_indexer,col_indexer] = value instead\n",
      "\n",
      "See the caveats in the documentation: https://pandas.pydata.org/pandas-docs/stable/user_guide/indexing.html#returning-a-view-versus-a-copy\n",
      "  df['gender_shift'] = np.where((df['genre'] != df['Identified_gender']) & (df['genre'] == \"Neutral\") & (df['Identified_gender'] != \"Neutral\") & (df['Identified_gender']!=\"incomplet/pas de P1\"), 1, 0)\n",
      "/tmp/ipykernel_240791/3446936677.py:10: SettingWithCopyWarning: \n",
      "A value is trying to be set on a copy of a slice from a DataFrame.\n",
      "Try using .loc[row_indexer,col_indexer] = value instead\n",
      "\n",
      "See the caveats in the documentation: https://pandas.pydata.org/pandas-docs/stable/user_guide/indexing.html#returning-a-view-versus-a-copy\n",
      "  df['gender_shift'] = np.where((df['genre'] != df['Identified_gender']) & (df['Identified_gender'] != \"Neutral\") & (df['Identified_gender']!=\"incomplet/pas de P1\"), 1, 0)\n"
     ]
    }
   ],
   "source": [
    "res_mod = {}\n",
    "for modele in modeles:\n",
    "    data_model = data_genre[data_genre['model']==modele]\n",
    "    res_mod[modele] = round(gender_shift(data_model),3)\n",
    "print(res_mod)"
   ]
  },
  {
   "cell_type": "code",
   "execution_count": 46,
   "id": "e2be6356-6275-4ce0-b010-ae2bf98e0274",
   "metadata": {},
   "outputs": [
    {
     "data": {
      "image/png": "[encoded data removed]",
      "text/plain": [
       "<Figure size 720x432 with 1 Axes>"
      ]
     },
     "metadata": {
      "needs_background": "light"
     },
     "output_type": "display_data"
    }
   ],
   "source": [
    "import pandas as pd\n",
    "import seaborn as sns\n",
    "import matplotlib.pyplot as plt\n",
    "\n",
    "fig, ax = plt.subplots(figsize=(10, 6))\n",
    "ax.bar(list(res_mod.keys()), list(res_mod.values()))\n",
    "ax.tick_params(labelrotation=90) \n",
    "ax.set_ylabel(\"Percentage of 'gender shift'\")\n",
    "#ax.set_title('Problèmes de qualité de données')\n",
    "i = 0\n",
    "for p in ax.patches:\n",
    "    width = p.get_width()\n",
    "    height = p.get_height()\n",
    "    x, y = p.get_xy()\n",
    "    plt.text(x+width/2,\n",
    "             y+height*1.01,\n",
    "             round(list(res_mod.values())[i],2),\n",
    "             ha='center',\n",
    "             weight='bold')\n",
    "    i+=1\n",
    "    \n",
    "#plt.savefig(\"fig/moy_gap_topic_model.png\")"
   ]
  },
  {
   "cell_type": "code",
   "execution_count": 47,
   "id": "eebc1908-842e-4609-bfbb-b29db00194a6",
   "metadata": {},
   "outputs": [
    {
     "name": "stderr",
     "output_type": "stream",
     "text": [
      "/tmp/ipykernel_240791/3446936677.py:6: SettingWithCopyWarning: \n",
      "A value is trying to be set on a copy of a slice from a DataFrame.\n",
      "Try using .loc[row_indexer,col_indexer] = value instead\n",
      "\n",
      "See the caveats in the documentation: https://pandas.pydata.org/pandas-docs/stable/user_guide/indexing.html#returning-a-view-versus-a-copy\n",
      "  df['gender_shift'] = np.where((df['genre'] != df['Identified_gender']) & (df['genre'] == \"Neutral\") & (df['Identified_gender'] != \"Neutral\") & (df['Identified_gender']!=\"incomplet/pas de P1\"), 1, 0)\n",
      "/tmp/ipykernel_240791/3446936677.py:10: SettingWithCopyWarning: \n",
      "A value is trying to be set on a copy of a slice from a DataFrame.\n",
      "Try using .loc[row_indexer,col_indexer] = value instead\n",
      "\n",
      "See the caveats in the documentation: https://pandas.pydata.org/pandas-docs/stable/user_guide/indexing.html#returning-a-view-versus-a-copy\n",
      "  df['gender_shift'] = np.where((df['genre'] != df['Identified_gender']) & (df['Identified_gender'] != \"Neutral\") & (df['Identified_gender']!=\"incomplet/pas de P1\"), 1, 0)\n"
     ]
    },
    {
     "name": "stdout",
     "output_type": "stream",
     "text": [
      "Domaines professionnels qui résultent en le + de générations avec chgt de genre : \t [('réparation de carrosserie', 0.31), (\"conduite d'engins de chantier\", 0.27), ('secrétariat et assistanat médical ou médico-social', 0.24), ('coiffure, esthétique et autres spécialites de services aux personnes', 0.24), ('esthétique', 0.23), ('pose de canalisations', 0.23), ('biochimie des produits alimentaires', 0.22), ('diététique', 0.22), (\"installation et maintenance en froid, conditionnement d'air\", 0.22), ('direction des centres de loisirs ou culturels', 0.21)]\n",
      "\n",
      "\n",
      "Domaines professionnels qui résultent en le - de générations avec chgt de genre : \t [(\"films d'animation et effets spéciaux\", 0.08), ('négociation et vente', 0.08), ('gardiennage de locaux', 0.08), ('navigation fluviale', 0.07), ('gestion en banque et assurance', 0.06), ('vente en alimentation', 0.06), ('optique - lunetterie', 0.06), (\"animation de loisirs auprès d'enfants ou d'adolescents\", 0.06), (\"techniques de l'imprimerie et de l'édition\", 0.05), ('informatique en biologie', 0.04)]\n"
     ]
    }
   ],
   "source": [
    "# per professional field\n",
    "res_dom = {}\n",
    "for topic in topics:\n",
    "    data_topic = data_genre[data_genre['theme']==topic]\n",
    "    res_dom[topic] = round(gender_shift( data_topic),2)\n",
    "\n",
    "from collections import Counter\n",
    "counter = Counter(res_dom)\n",
    "top = counter.most_common()\n",
    "# Professional fields resulting in the highest/lowest nb of generations with a Gender Shift\n",
    "print(\"Domaines professionnels qui résultent en le + de générations avec chgt de genre : \\t\", top[:10])\n",
    "print(\"\\n\\nDomaines professionnels qui résultent en le - de générations avec chgt de genre : \\t\", top[-10:])"
   ]
  },
  {
   "cell_type": "code",
   "execution_count": 48,
   "id": "a1dc4b94-2f1f-46fb-93c4-87ebd91d347f",
   "metadata": {},
   "outputs": [],
   "source": [
    "df_top = pd.DataFrame(top[:10]+top[-10:], columns =['Field', 'Gender shift prob'])"
   ]
  },
  {
   "cell_type": "code",
   "execution_count": 49,
   "id": "7c7e4c06-b9c7-47c4-9451-d89f3ceeddf2",
   "metadata": {},
   "outputs": [
    {
     "data": {
      "text/plain": [
       "(0.0, 1.0)"
      ]
     },
     "execution_count": 49,
     "metadata": {},
     "output_type": "execute_result"
    },
    {
     "data": {
      "image/png": "[encoded data removed]",
      "text/plain": [
       "<Figure size 432x288 with 1 Axes>"
      ]
     },
     "metadata": {
      "needs_background": "light"
     },
     "output_type": "display_data"
    }
   ],
   "source": [
    "import seaborn as sns\n",
    "ax = sns.lineplot(data=df_top, x=\"Field\", y=\"Gender shift prob\", )\n",
    "ax.tick_params(axis='x', rotation=90)\n",
    "ax.set_ylim(0.0, 1.0)"
   ]
  }
 ],
 "metadata": {
  "kernelspec": {
   "display_name": "Python 3 (ipykernel)",
   "language": "python",
   "name": "python3"
  },
  "language_info": {
   "codemirror_mode": {
    "name": "ipython",
    "version": 3
   },
   "file_extension": ".py",
   "mimetype": "text/x-python",
   "name": "python",
   "nbconvert_exporter": "python",
   "pygments_lexer": "ipython3",
   "version": "3.11.9"
  }
 },
 "nbformat": 4,
 "nbformat_minor": 5
}
