{
 "cells": [
  {
   "cell_type": "code",
   "execution_count": 1,
   "id": "0d889ebb-2e15-4127-befd-174ca2faf5d6",
   "metadata": {},
   "outputs": [],
   "source": [
    "\"\"\"Calcul et représentation des changements de genre dans l'expé prompt genrée\n",
    "> pour un domaine pro/modèle/total, proportion du nb de fois où le genre du prompt n'a pas été respecté (M>F/A, F>M/A)/total\"\"\"\n",
    "\n",
    "import pandas as pd\n",
    "import numpy as np\n",
    "\n",
    "modeles = [\"cerbero-7b_genre_\", \"xglm-2\"]\n",
    "\n",
    "# Corpus global\n",
    "dic_df = {}\n",
    "for modele in modeles:\n",
    "    df = pd.read_csv(f\"ressources_it/it_coverletter_detection_it_coverletter_{modele}_gender_lg.csv\")\n",
    "    df[\"model\"]=modele\n",
    "    dic_df[modele] = df\n",
    "    \n",
    "data_genre = pd.concat(list(dic_df.values()), ignore_index=True)\n",
    "data_genre = data_genre[data_genre[\"Identified_gender\"]!=\"incomplet\"]\n",
    "data_genre.replace({\"Ambigu\":\"Ambiguous\", \"Fem\":\"Feminine\", \"Masc\":\"Masculine\", \"Neutre\":\"Neutral\"}, inplace=True)\n",
    "topics = list(set(data_genre[\"theme\"]))\n"
   ]
  },
  {
   "cell_type": "code",
   "execution_count": 2,
   "id": "1752b38e-8432-4057-863a-e134621048df",
   "metadata": {},
   "outputs": [],
   "source": [
    "def prompt_gender(gender, df):\n",
    "    \"\"\"Renvoie la probabilité que le prompt ne soit pas respecté (= nb de fois où le texte est généré dans le genre opposé ou ambigu),\n",
    "    par genre\"\"\"\n",
    "    prompt_g = df[df['genre_prompt'].astype(str).str.contains(gender)]\n",
    "    #return prompt_g[\"Identified_gender\"].value_counts(normalize=True)\n",
    "    pct = prompt_g[\"Identified_gender\"].value_counts(normalize=True)\n",
    "    if gender==\"masc\":\n",
    "        opposite_gender=\"Feminine\"\n",
    "    else:\n",
    "        opposite_gender=\"Masculine\"\n",
    "\n",
    "    return (pct.get('Ambiguous',0)+pct.get(opposite_gender,0))#*100 #%"
   ]
  },
  {
   "cell_type": "markdown",
   "id": "f1aa142c-fd05-451b-b739-911cbd43a5c7",
   "metadata": {},
   "source": [
    "## Résultats pour prompts masculins"
   ]
  },
  {
   "cell_type": "code",
   "execution_count": 3,
   "id": "9a74d1cd-9671-47da-81b1-ba396a45151d",
   "metadata": {},
   "outputs": [
    {
     "data": {
      "text/plain": [
       "0.020146520146520144"
      ]
     },
     "execution_count": 3,
     "metadata": {},
     "output_type": "execute_result"
    }
   ],
   "source": [
    "# total\n",
    "prompt_gender(\"masc\", data_genre)"
   ]
  },
  {
   "cell_type": "code",
   "execution_count": 4,
   "id": "d057b1c0-9935-4482-a153-a326dae38757",
   "metadata": {},
   "outputs": [
    {
     "name": "stdout",
     "output_type": "stream",
     "text": [
      "{'cerbero-7b_genre_': 0.02, 'xglm-2': 0.02}\n"
     ]
    }
   ],
   "source": [
    "# par modèle\n",
    "res_mod = {}\n",
    "for modele in modeles:\n",
    "    data_model = data_genre[data_genre['model']==modele]\n",
    "    res_mod[modele] = round(prompt_gender(\"masc\", data_model),2)\n",
    "print(res_mod)"
   ]
  },
  {
   "cell_type": "code",
   "execution_count": 5,
   "id": "774c2ca0-ff32-435e-853b-97a23ff2bb9a",
   "metadata": {},
   "outputs": [
    {
     "name": "stdout",
     "output_type": "stream",
     "text": [
      "Domaines professionnels qui résultent en le + de générations fém/amb alors que le prompt est masc : \t [('attività degli studi odontoiatrici', 0.17), ('attività delle agenzie di viaggio', 0.1), ('traduzione e interpretariato', 0.09), ('attività generali di amministrazione pubblica', 0.09), ('affari esteri', 0.08), ('servizi degli studi medici di medicina generale', 0.08), ('attività di musei', 0.08), ('attività delle banche centrali', 0.08), ('installazione di impianti elettrici', 0.08), ('costruzione di ponti e gallerie', 0.08)]\n",
      "\n",
      "\n",
      "Domaines professionnels qui résultent en le - de générations fém/amb alors que le prompt est masc : \t [('ordine pubblico e sicurezza nazionale', 0), ('fabbricazione di veicoli militari da combattimento', 0), ('riparazione di computer e periferiche', 0), ('attività di pulizia', 0), ('realizzazione di coperture', 0), ('commercio di altri autoveicoli', 0), ('attività dei vigili del fuoco e della protezione civile', 0), ('ricerca e sviluppo sperimentale nel campo delle biotecnologie', 0), ('amministrazione di mercati finanziari', 0), ('fabbricazione di aeromobili', 0)]\n"
     ]
    }
   ],
   "source": [
    "# par domaine professionnel (tous et garder top 10 max et top 10 min)\n",
    "res_dom = {}\n",
    "for topic in topics:\n",
    "    data_topic = data_genre[data_genre['theme']==topic]\n",
    "    res_dom[topic] = round(prompt_gender(\"masc\", data_topic),2)\n",
    "\n",
    "from collections import Counter\n",
    "counter = Counter(res_dom)\n",
    "top = counter.most_common()\n",
    "print(\"Domaines professionnels qui résultent en le + de générations fém/amb alors que le prompt est masc : \\t\", top[:10])\n",
    "print(\"\\n\\nDomaines professionnels qui résultent en le - de générations fém/amb alors que le prompt est masc : \\t\", top[-10:])"
   ]
  },
  {
   "cell_type": "markdown",
   "id": "137dfc89-bc8f-46bc-8dda-ca93908f27ce",
   "metadata": {},
   "source": [
    "## Résultats pour prompts féminins"
   ]
  },
  {
   "cell_type": "code",
   "execution_count": 6,
   "id": "10d49e32-001a-4339-bb82-1094daaca374",
   "metadata": {},
   "outputs": [
    {
     "data": {
      "text/plain": [
       "0.1853146853146853"
      ]
     },
     "execution_count": 6,
     "metadata": {},
     "output_type": "execute_result"
    }
   ],
   "source": [
    "# total\n",
    "prompt_gender(\"fem\", data_genre)"
   ]
  },
  {
   "cell_type": "code",
   "execution_count": 7,
   "id": "fb6b325e-f591-46cd-8157-bb00f641798e",
   "metadata": {},
   "outputs": [
    {
     "name": "stdout",
     "output_type": "stream",
     "text": [
      "{'cerbero-7b_genre_': 0.25, 'xglm-2': 0.12}\n"
     ]
    }
   ],
   "source": [
    "# par modèle\n",
    "res_mod = {}\n",
    "for modele in modeles:\n",
    "    data_model = data_genre[data_genre['model']==modele]\n",
    "    res_mod[modele] = round(prompt_gender(\"fem\", data_model),2)\n",
    "print(res_mod)"
   ]
  },
  {
   "cell_type": "code",
   "execution_count": 8,
   "id": "a4fbfe71-be63-430e-a86f-02105ff7a4a6",
   "metadata": {},
   "outputs": [
    {
     "name": "stdout",
     "output_type": "stream",
     "text": [
      "Domaines professionnels qui résultent en le + de générations masc/amb alors que prompt fém : \t [('servizi veterinari', 0.45), ('servizi degli studi medici di medicina generale', 0.45), ('pesca marina', 0.45), ('fusione di acciaio', 0.42), ('fabbricazione di strumenti musicali', 0.42), ('allevamento di bovini da latte', 0.36), ('lavori di costruzione e installazione', 0.33), ('attività delle banche centrali', 0.33), ('commercio di altri autoveicoli', 0.33), ('attività generali di amministrazione pubblica', 0.27)]\n",
      "\n",
      "\n",
      "Domaines professionnels qui résultent en le - de générations masc/amb alors que prompt fém : \t [('attività editoriali', 0.08), ('servizi di asili nido', 0.08), ('fabbricazione di profumi e cosmetici', 0.08), ('servizi di assistenza sanitaria', 0.08), ('ricerca e sviluppo sperimentale nel campo delle scienze sociali e umanistiche', 0.08), ('traduzione e interpretariato', 0), ('servizi investigativi privati', 0), ('attività degli studi odontoiatrici', 0), ('ordine pubblico e sicurezza nazionale', 0), ('attività dei vigili del fuoco e della protezione civile', 0)]\n"
     ]
    }
   ],
   "source": [
    "# par domaine professionnel (tous et garder top 10 max et top 10 min)\n",
    "res_dom = {}\n",
    "for topic in topics:\n",
    "    data_topic = data_genre[data_genre['theme']==topic]\n",
    "    res_dom[topic] = round(prompt_gender(\"fem\", data_topic),2)\n",
    "\n",
    "from collections import Counter\n",
    "counter = Counter(res_dom)\n",
    "top = counter.most_common()\n",
    "print(\"Domaines professionnels qui résultent en le + de générations masc/amb alors que prompt fém : \\t\", top[:10])\n",
    "print(\"\\n\\nDomaines professionnels qui résultent en le - de générations masc/amb alors que prompt fém : \\t\", top[-10:])"
   ]
  },
  {
   "cell_type": "markdown",
   "id": "25c55cb9-eba3-41a9-a019-e071d2f22b74",
   "metadata": {},
   "source": [
    "## Résultats globaux (all gender shifts, prompt pas respecté dans un sens ou dans l'autre)"
   ]
  },
  {
   "cell_type": "code",
   "execution_count": 9,
   "id": "b57c109a-3925-4d87-92cf-bf7323721d2b",
   "metadata": {},
   "outputs": [],
   "source": [
    "def gender_shift(df):\n",
    "    \"\"\"Renvoie la probabilité que le prompt ne soit pas respecté (= nb de fois où le texte est généré dans le genre opposé ou ambigu)\"\"\"\n",
    "    #df.replace({\"['Prompt_masc']\":\"Masculine\", \"['Prompt_fém']\":\"Feminine\"}, inplace=True)\n",
    "\n",
    "    # compte les gender shift du neutre vers autre chose = 25% de gender shift\n",
    "    df['gender_shift'] = np.where((df['genre_prompt'] != df['Identified_gender']) & (df['genre_prompt'] == \"Neutral\") & (df['Identified_gender'] != \"Neutral\") & (df['Identified_gender']!=\"incomplet\"), 1, 0)\n",
    "    \n",
    "    # exclusion du neutre\n",
    "    df = df[df.genre_prompt != \"Neutral\"]\n",
    "    df['gender_shift'] = np.where((df['genre_prompt'] != df['Identified_gender']) & (df['Identified_gender'] != \"Neutral\") & (df['Identified_gender']!=\"incomplet\"), 1, 0)\n",
    "\n",
    "    df.to_csv(\"gender_shift_noneutral_it.csv\")\n",
    "    return sum(df['gender_shift'])/len(df['gender_shift'])"
   ]
  },
  {
   "cell_type": "code",
   "execution_count": 10,
   "id": "497a05b2-5afc-4652-8736-b3ca67e24091",
   "metadata": {},
   "outputs": [],
   "source": [
    "# TODO : CORRIGER... DEVRAIT ÊTRE 10.46"
   ]
  },
  {
   "cell_type": "code",
   "execution_count": 11,
   "id": "4b7be062-c50b-4609-b4e6-19b315df7e6d",
   "metadata": {},
   "outputs": [
    {
     "name": "stderr",
     "output_type": "stream",
     "text": [
      "/tmp/ipykernel_294877/2760744857.py:10: SettingWithCopyWarning: \n",
      "A value is trying to be set on a copy of a slice from a DataFrame.\n",
      "Try using .loc[row_indexer,col_indexer] = value instead\n",
      "\n",
      "See the caveats in the documentation: https://pandas.pydata.org/pandas-docs/stable/user_guide/indexing.html#returning-a-view-versus-a-copy\n",
      "  df['gender_shift'] = np.where((df['genre_prompt'] != df['Identified_gender']) & (df['Identified_gender'] != \"Neutral\") & (df['Identified_gender']!=\"incomplet\"), 1, 0)\n"
     ]
    },
    {
     "data": {
      "text/plain": [
       "0.10465116279069768"
      ]
     },
     "execution_count": 11,
     "metadata": {},
     "output_type": "execute_result"
    }
   ],
   "source": [
    "\"\"\"Attention, prompts inclusifs exclus\"\"\"\n",
    "data_genre.replace({\"masc\":\"Masculine\", \"fem\":\"Feminine\", \"inclus\":\"Neutral\"}, inplace=True)\n",
    "gender_shift(data_genre)"
   ]
  },
  {
   "cell_type": "code",
   "execution_count": 12,
   "id": "dc16ae4c-07a3-40d7-ae5e-f05326dbfcb1",
   "metadata": {},
   "outputs": [
    {
     "name": "stdout",
     "output_type": "stream",
     "text": [
      "{'cerbero-7b_genre_': 0.135, 'xglm-2': 0.069}\n"
     ]
    },
    {
     "name": "stderr",
     "output_type": "stream",
     "text": [
      "/tmp/ipykernel_294877/2760744857.py:6: SettingWithCopyWarning: \n",
      "A value is trying to be set on a copy of a slice from a DataFrame.\n",
      "Try using .loc[row_indexer,col_indexer] = value instead\n",
      "\n",
      "See the caveats in the documentation: https://pandas.pydata.org/pandas-docs/stable/user_guide/indexing.html#returning-a-view-versus-a-copy\n",
      "  df['gender_shift'] = np.where((df['genre_prompt'] != df['Identified_gender']) & (df['genre_prompt'] == \"Neutral\") & (df['Identified_gender'] != \"Neutral\") & (df['Identified_gender']!=\"incomplet\"), 1, 0)\n",
      "/tmp/ipykernel_294877/2760744857.py:10: SettingWithCopyWarning: \n",
      "A value is trying to be set on a copy of a slice from a DataFrame.\n",
      "Try using .loc[row_indexer,col_indexer] = value instead\n",
      "\n",
      "See the caveats in the documentation: https://pandas.pydata.org/pandas-docs/stable/user_guide/indexing.html#returning-a-view-versus-a-copy\n",
      "  df['gender_shift'] = np.where((df['genre_prompt'] != df['Identified_gender']) & (df['Identified_gender'] != \"Neutral\") & (df['Identified_gender']!=\"incomplet\"), 1, 0)\n"
     ]
    }
   ],
   "source": [
    "res_mod = {}\n",
    "for modele in modeles:\n",
    "    data_model = data_genre[data_genre['model']==modele]\n",
    "    res_mod[modele] = round(gender_shift(data_model),3)\n",
    "print(res_mod)"
   ]
  },
  {
   "cell_type": "code",
   "execution_count": 13,
   "id": "e2be6356-6275-4ce0-b010-ae2bf98e0274",
   "metadata": {},
   "outputs": [
    {
     "data": {
      "image/png": "[encoded data removed]",
      "text/plain": [
       "<Figure size 720x432 with 1 Axes>"
      ]
     },
     "metadata": {
      "needs_background": "light"
     },
     "output_type": "display_data"
    }
   ],
   "source": [
    "import pandas as pd\n",
    "import seaborn as sns\n",
    "import matplotlib.pyplot as plt\n",
    "\n",
    "fig, ax = plt.subplots(figsize=(10, 6))\n",
    "ax.bar(list(res_mod.keys()), list(res_mod.values()))\n",
    "ax.tick_params(labelrotation=90) \n",
    "ax.set_ylabel(\"Pourcentage de 'gender shift'\")\n",
    "#ax.set_title('Problèmes de qualité de données')\n",
    "i = 0\n",
    "for p in ax.patches:\n",
    "    width = p.get_width()\n",
    "    height = p.get_height()\n",
    "    x, y = p.get_xy()\n",
    "    plt.text(x+width/2,\n",
    "             y+height*1.01,\n",
    "             round(list(res_mod.values())[i],2),\n",
    "             ha='center',\n",
    "             weight='bold')\n",
    "    i+=1\n",
    "    \n",
    "#plt.savefig(\"fig/moy_gap_topic_model.png\")"
   ]
  },
  {
   "cell_type": "code",
   "execution_count": 14,
   "id": "eebc1908-842e-4609-bfbb-b29db00194a6",
   "metadata": {},
   "outputs": [
    {
     "name": "stderr",
     "output_type": "stream",
     "text": [
      "/tmp/ipykernel_294877/2760744857.py:6: SettingWithCopyWarning: \n",
      "A value is trying to be set on a copy of a slice from a DataFrame.\n",
      "Try using .loc[row_indexer,col_indexer] = value instead\n",
      "\n",
      "See the caveats in the documentation: https://pandas.pydata.org/pandas-docs/stable/user_guide/indexing.html#returning-a-view-versus-a-copy\n",
      "  df['gender_shift'] = np.where((df['genre_prompt'] != df['Identified_gender']) & (df['genre_prompt'] == \"Neutral\") & (df['Identified_gender'] != \"Neutral\") & (df['Identified_gender']!=\"incomplet\"), 1, 0)\n",
      "/tmp/ipykernel_294877/2760744857.py:10: SettingWithCopyWarning: \n",
      "A value is trying to be set on a copy of a slice from a DataFrame.\n",
      "Try using .loc[row_indexer,col_indexer] = value instead\n",
      "\n",
      "See the caveats in the documentation: https://pandas.pydata.org/pandas-docs/stable/user_guide/indexing.html#returning-a-view-versus-a-copy\n",
      "  df['gender_shift'] = np.where((df['genre_prompt'] != df['Identified_gender']) & (df['Identified_gender'] != \"Neutral\") & (df['Identified_gender']!=\"incomplet\"), 1, 0)\n"
     ]
    },
    {
     "name": "stdout",
     "output_type": "stream",
     "text": [
      "Domaines professionnels qui résultent en le + de générations avec chgt de genre : \t [('servizi degli studi medici di medicina generale', 0.26), ('fabbricazione di strumenti musicali', 0.24), ('servizi veterinari', 0.22), ('pesca marina', 0.22), ('fusione di acciaio', 0.21), ('attività delle banche centrali', 0.21), ('lavori di costruzione e installazione', 0.18), ('attività generali di amministrazione pubblica', 0.18), ('allevamento di bovini da latte', 0.18), ('commercio di altri autoveicoli', 0.17)]\n",
      "\n",
      "\n",
      "Domaines professionnels qui résultent en le - de générations avec chgt de genre : \t [('servizi di assistenza sanitaria', 0.05), ('ricerca e sviluppo sperimentale nel campo delle scienze sociali e umanistiche', 0.05), ('attività degli studi legali e notarili', 0.05), ('attività editoriali', 0.04), ('traduzione e interpretariato', 0.04), ('telecomunicazione', 0.04), ('realizzazione di coperture', 0.04), ('servizi investigativi privati', 0.0), ('ordine pubblico e sicurezza nazionale', 0.0), ('attività dei vigili del fuoco e della protezione civile', 0.0)]\n"
     ]
    }
   ],
   "source": [
    "# par domaine professionnel (tous et garder top 10 max et top 10 min)\n",
    "res_dom = {}\n",
    "for topic in topics:\n",
    "    data_topic = data_genre[data_genre['theme']==topic]\n",
    "    res_dom[topic] = round(gender_shift( data_topic),2)\n",
    "\n",
    "from collections import Counter\n",
    "counter = Counter(res_dom)\n",
    "top = counter.most_common()\n",
    "print(\"Domaines professionnels qui résultent en le + de générations avec chgt de genre : \\t\", top[:10])\n",
    "print(\"\\n\\nDomaines professionnels qui résultent en le - de générations avec chgt de genre : \\t\", top[-10:])"
   ]
  },
  {
   "cell_type": "code",
   "execution_count": 16,
   "id": "7b4f4fbd-6b6e-44bd-a524-ae84d1229c4f",
   "metadata": {},
   "outputs": [
    {
     "name": "stderr",
     "output_type": "stream",
     "text": [
      "/tmp/ipykernel_294877/2760744857.py:6: SettingWithCopyWarning: \n",
      "A value is trying to be set on a copy of a slice from a DataFrame.\n",
      "Try using .loc[row_indexer,col_indexer] = value instead\n",
      "\n",
      "See the caveats in the documentation: https://pandas.pydata.org/pandas-docs/stable/user_guide/indexing.html#returning-a-view-versus-a-copy\n",
      "  df['gender_shift'] = np.where((df['genre_prompt'] != df['Identified_gender']) & (df['genre_prompt'] == \"Neutral\") & (df['Identified_gender'] != \"Neutral\") & (df['Identified_gender']!=\"incomplet\"), 1, 0)\n",
      "/tmp/ipykernel_294877/2760744857.py:10: SettingWithCopyWarning: \n",
      "A value is trying to be set on a copy of a slice from a DataFrame.\n",
      "Try using .loc[row_indexer,col_indexer] = value instead\n",
      "\n",
      "See the caveats in the documentation: https://pandas.pydata.org/pandas-docs/stable/user_guide/indexing.html#returning-a-view-versus-a-copy\n",
      "  df['gender_shift'] = np.where((df['genre_prompt'] != df['Identified_gender']) & (df['Identified_gender'] != \"Neutral\") & (df['Identified_gender']!=\"incomplet\"), 1, 0)\n"
     ]
    },
    {
     "name": "stdout",
     "output_type": "stream",
     "text": [
      "Domaines professionnels qui résultent en le + de générations avec chgt de genre : \t [('fusione di acciaio', 0.33), ('pesca marina', 0.33), ('attività delle banche centrali', 0.33), ('fabbricazione di strumenti musicali', 0.33), ('attività generali di amministrazione pubblica', 0.25), ('attività delle agenzie di viaggio', 0.25), ('giustizia ed attività giudiziarie', 0.25), (\"attività dei servizi connessi alle tecnologie dell'informatica\", 0.25), ('edizione di giochi per computer', 0.25), ('allevamento di bovini da latte', 0.25)]\n",
      "\n",
      "\n",
      "Domaines professionnels qui résultent en le - de générations avec chgt de genre : \t [('fabbricazione di veicoli militari da combattimento', 0.08), ('attività di pulizia', 0.08), ('realizzazione di coperture', 0.08), ('ricerca e sviluppo sperimentale nel campo delle biotecnologie', 0.08), ('servizi investigativi privati', 0.0), ('ricerche di mercato e sondaggi di opinione', 0.0), ('attività degli studi legali e notarili', 0.0), ('ordine pubblico e sicurezza nazionale', 0.0), ('attività dei vigili del fuoco e della protezione civile', 0.0), ('fabbricazione di aeromobili', 0.0)]\n"
     ]
    }
   ],
   "source": [
    "# ESSAI PAR MODELE + par domaine professionnel (tous et garder top 10 max et top 10 min)\n",
    "res_dom = {}\n",
    "data_model = data_genre[data_genre['model']==\"cerbero-7b_genre_\"]\n",
    "for topic in topics:\n",
    "    data_topic = data_model[data_model['theme']==topic]\n",
    "    res_dom[topic] = round(gender_shift( data_topic),2)\n",
    "\n",
    "from collections import Counter\n",
    "counter = Counter(res_dom)\n",
    "top = counter.most_common()\n",
    "print(\"Domaines professionnels qui résultent en le + de générations avec chgt de genre : \\t\", top[:10])\n",
    "print(\"\\n\\nDomaines professionnels qui résultent en le - de générations avec chgt de genre : \\t\", top[-10:])"
   ]
  },
  {
   "cell_type": "code",
   "execution_count": 17,
   "id": "94bc902d-76f3-454d-939e-5c74d8d0966b",
   "metadata": {},
   "outputs": [
    {
     "name": "stderr",
     "output_type": "stream",
     "text": [
      "/tmp/ipykernel_294877/2760744857.py:6: SettingWithCopyWarning: \n",
      "A value is trying to be set on a copy of a slice from a DataFrame.\n",
      "Try using .loc[row_indexer,col_indexer] = value instead\n",
      "\n",
      "See the caveats in the documentation: https://pandas.pydata.org/pandas-docs/stable/user_guide/indexing.html#returning-a-view-versus-a-copy\n",
      "  df['gender_shift'] = np.where((df['genre_prompt'] != df['Identified_gender']) & (df['genre_prompt'] == \"Neutral\") & (df['Identified_gender'] != \"Neutral\") & (df['Identified_gender']!=\"incomplet\"), 1, 0)\n",
      "/tmp/ipykernel_294877/2760744857.py:10: SettingWithCopyWarning: \n",
      "A value is trying to be set on a copy of a slice from a DataFrame.\n",
      "Try using .loc[row_indexer,col_indexer] = value instead\n",
      "\n",
      "See the caveats in the documentation: https://pandas.pydata.org/pandas-docs/stable/user_guide/indexing.html#returning-a-view-versus-a-copy\n",
      "  df['gender_shift'] = np.where((df['genre_prompt'] != df['Identified_gender']) & (df['Identified_gender'] != \"Neutral\") & (df['Identified_gender']!=\"incomplet\"), 1, 0)\n"
     ]
    },
    {
     "name": "stdout",
     "output_type": "stream",
     "text": [
      "Domaines professionnels qui résultent en le + de générations avec chgt de genre : \t [('servizi degli studi medici di medicina generale', 0.36), ('servizi veterinari', 0.27), ('ricerche di mercato e sondaggi di opinione', 0.22), ('lavori di costruzione e installazione', 0.2), ('fabbricazione di aeromobili', 0.2), ('servizi ospedalieri', 0.18), ('attività di musei', 0.17), ('attività di produzione cinematografica, di video e di programmi televisivi', 0.14), ('attività fotografiche', 0.11), (\"consulenza nel settore delle tecnologie dell'informatica\", 0.11)]\n",
      "\n",
      "\n",
      "Domaines professionnels qui résultent en le - de générations avec chgt de genre : \t [('rappresentazioni artistiche', 0.0), ('ricerca e sviluppo sperimentale nel campo delle scienze sociali e umanistiche', 0.0), (\"attività dei servizi connessi alle tecnologie dell'informatica\", 0.0), ('edizione di giochi per computer', 0.0), ('ordine pubblico e sicurezza nazionale', 0.0), ('riparazione di computer e periferiche', 0.0), ('realizzazione di coperture', 0.0), ('attività dei vigili del fuoco e della protezione civile', 0.0), ('costruzione di ponti e gallerie', 0.0), ('amministrazione di mercati finanziari', 0.0)]\n"
     ]
    }
   ],
   "source": [
    "# ESSAI PAR MODELE + par domaine professionnel (tous et garder top 10 max et top 10 min)\n",
    "res_dom = {}\n",
    "data_model = data_genre[data_genre['model']==\"xglm-2\"]\n",
    "for topic in topics:\n",
    "    data_topic = data_model[data_model['theme']==topic]\n",
    "    res_dom[topic] = round(gender_shift( data_topic),2)\n",
    "\n",
    "from collections import Counter\n",
    "counter = Counter(res_dom)\n",
    "top = counter.most_common()\n",
    "print(\"Domaines professionnels qui résultent en le + de générations avec chgt de genre : \\t\", top[:10])\n",
    "print(\"\\n\\nDomaines professionnels qui résultent en le - de générations avec chgt de genre : \\t\", top[-10:])"
   ]
  },
  {
   "cell_type": "code",
   "execution_count": null,
   "id": "a1dc4b94-2f1f-46fb-93c4-87ebd91d347f",
   "metadata": {},
   "outputs": [],
   "source": [
    "df_top = pd.DataFrame(top[:10]+top[-10:], columns =['Field', 'Gender shift prob'])"
   ]
  },
  {
   "cell_type": "code",
   "execution_count": null,
   "id": "7c7e4c06-b9c7-47c4-9451-d89f3ceeddf2",
   "metadata": {},
   "outputs": [],
   "source": [
    "import seaborn as sns\n",
    "ax = sns.lineplot(data=df_top, x=\"Field\", y=\"Gender shift prob\", )\n",
    "ax.tick_params(axis='x', rotation=90)\n",
    "ax.set_ylim(0.0, 1.0)"
   ]
  }
 ],
 "metadata": {
  "kernelspec": {
   "display_name": "Python 3 (ipykernel)",
   "language": "python",
   "name": "python3"
  },
  "language_info": {
   "codemirror_mode": {
    "name": "ipython",
    "version": 3
   },
   "file_extension": ".py",
   "mimetype": "text/x-python",
   "name": "python",
   "nbconvert_exporter": "python",
   "pygments_lexer": "ipython3",
   "version": "3.10.12"
  }
 },
 "nbformat": 4,
 "nbformat_minor": 5
}
